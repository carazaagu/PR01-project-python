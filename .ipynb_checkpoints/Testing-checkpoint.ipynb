{
 "cells": [
  {
   "cell_type": "code",
   "execution_count": 4,
   "metadata": {},
   "outputs": [],
   "source": [
    "# Definición de una segunda baraja con suits\n",
    "\n",
    "spade = \"♠\"\n",
    "heart = \"♥\"\n",
    "diamond = \"♦\"\n",
    "club = \"♣\"\n",
    "suits= [spade, heart, diamond, club]\n",
    "numbers = [str(i) for i in range(2,11)] + ['J', 'Q', 'K', 'A']\n",
    "values = [i for i in numbers if i.isnumeric()] + ['10' for i in numbers if (i.isalpha() and i != \"A\")] + ['11' for i in numbers if i == \"A\"]\n",
    "\n",
    "deck2 = [(number,suit) for number,suit in zip(numbers*len(suits),(suits*len(numbers)))]"
   ]
  },
  {
   "cell_type": "code",
   "execution_count": 5,
   "metadata": {},
   "outputs": [
    {
     "data": {
      "text/plain": [
       "[('2', '♠'),\n",
       " ('3', '♥'),\n",
       " ('4', '♦'),\n",
       " ('5', '♣'),\n",
       " ('6', '♠'),\n",
       " ('7', '♥'),\n",
       " ('8', '♦'),\n",
       " ('9', '♣'),\n",
       " ('10', '♠'),\n",
       " ('J', '♥'),\n",
       " ('Q', '♦'),\n",
       " ('K', '♣'),\n",
       " ('A', '♠'),\n",
       " ('2', '♥'),\n",
       " ('3', '♦'),\n",
       " ('4', '♣'),\n",
       " ('5', '♠'),\n",
       " ('6', '♥'),\n",
       " ('7', '♦'),\n",
       " ('8', '♣'),\n",
       " ('9', '♠'),\n",
       " ('10', '♥'),\n",
       " ('J', '♦'),\n",
       " ('Q', '♣'),\n",
       " ('K', '♠'),\n",
       " ('A', '♥'),\n",
       " ('2', '♦'),\n",
       " ('3', '♣'),\n",
       " ('4', '♠'),\n",
       " ('5', '♥'),\n",
       " ('6', '♦'),\n",
       " ('7', '♣'),\n",
       " ('8', '♠'),\n",
       " ('9', '♥'),\n",
       " ('10', '♦'),\n",
       " ('J', '♣'),\n",
       " ('Q', '♠'),\n",
       " ('K', '♥'),\n",
       " ('A', '♦'),\n",
       " ('2', '♣'),\n",
       " ('3', '♠'),\n",
       " ('4', '♥'),\n",
       " ('5', '♦'),\n",
       " ('6', '♣'),\n",
       " ('7', '♠'),\n",
       " ('8', '♥'),\n",
       " ('9', '♦'),\n",
       " ('10', '♣'),\n",
       " ('J', '♠'),\n",
       " ('Q', '♥'),\n",
       " ('K', '♦'),\n",
       " ('A', '♣')]"
      ]
     },
     "execution_count": 5,
     "metadata": {},
     "output_type": "execute_result"
    }
   ],
   "source": [
    "deck2"
   ]
  }
 ],
 "metadata": {
  "kernelspec": {
   "display_name": "Python 3",
   "language": "python",
   "name": "python3"
  },
  "language_info": {
   "codemirror_mode": {
    "name": "ipython",
    "version": 3
   },
   "file_extension": ".py",
   "mimetype": "text/x-python",
   "name": "python",
   "nbconvert_exporter": "python",
   "pygments_lexer": "ipython3",
   "version": "3.8.3"
  },
  "toc": {
   "base_numbering": 1,
   "nav_menu": {},
   "number_sections": true,
   "sideBar": true,
   "skip_h1_title": false,
   "title_cell": "Table of Contents",
   "title_sidebar": "Contents",
   "toc_cell": false,
   "toc_position": {},
   "toc_section_display": true,
   "toc_window_display": false
  },
  "varInspector": {
   "cols": {
    "lenName": 16,
    "lenType": 16,
    "lenVar": 40
   },
   "kernels_config": {
    "python": {
     "delete_cmd_postfix": "",
     "delete_cmd_prefix": "del ",
     "library": "var_list.py",
     "varRefreshCmd": "print(var_dic_list())"
    },
    "r": {
     "delete_cmd_postfix": ") ",
     "delete_cmd_prefix": "rm(",
     "library": "var_list.r",
     "varRefreshCmd": "cat(var_dic_list()) "
    }
   },
   "types_to_exclude": [
    "module",
    "function",
    "builtin_function_or_method",
    "instance",
    "_Feature"
   ],
   "window_display": false
  }
 },
 "nbformat": 4,
 "nbformat_minor": 4
}
